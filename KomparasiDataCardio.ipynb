{
  "nbformat": 4,
  "nbformat_minor": 0,
  "metadata": {
    "colab": {
      "name": "ETS_Kecerdasan_Buatan_Ridho.ipynb",
      "provenance": [],
      "collapsed_sections": []
    },
    "kernelspec": {
      "name": "python3",
      "display_name": "Python 3"
    },
    "language_info": {
      "name": "python"
    },
    "accelerator": "GPU"
  },
  "cells": [
    {
      "cell_type": "markdown",
      "metadata": {
        "id": "lYGC9jYpE7YS"
      },
      "source": [
        "# Kecerdasan Buatan\n",
        "*Komparasi klasifikasi penyakit cardio* <br>\n",
        "\n",
        "\n",
        "**Ridho Nur Rohman Wijaya**"
      ]
    },
    {
      "cell_type": "markdown",
      "metadata": {
        "id": "7NaZk88WFJtH"
      },
      "source": [
        "# Import Modul"
      ]
    },
    {
      "cell_type": "code",
      "metadata": {
        "id": "FjFqmumdAtPF"
      },
      "source": [
        "from sklearn.preprocessing import MinMaxScaler\n",
        "from sklearn.model_selection import train_test_split\n",
        "from sklearn.naive_bayes import GaussianNB\n",
        "from sklearn.tree import DecisionTreeClassifier\n",
        "from sklearn.neural_network import MLPClassifier\n",
        "from sklearn.metrics import accuracy_score, precision_score, recall_score, f1_score\n",
        "from tensorflow.keras.models import Sequential\n",
        "from tensorflow.keras.layers import Dense, Dropout, LSTM\n",
        "from tensorflow.keras.optimizers import SGD, Adam\n",
        "import pandas as pd\n",
        "import numpy as np\n",
        "import seaborn as sns\n",
        "import matplotlib.pyplot as plt"
      ],
      "execution_count": 1,
      "outputs": []
    },
    {
      "cell_type": "markdown",
      "metadata": {
        "id": "FUccgSjHFOXi"
      },
      "source": [
        "# Ambil Data"
      ]
    },
    {
      "cell_type": "code",
      "metadata": {
        "id": "DDOccdyjBo-M",
        "colab": {
          "base_uri": "https://localhost:8080/",
          "height": 206
        },
        "outputId": "9894454f-6d43-42fc-b3d6-337f4cbe60d5"
      },
      "source": [
        "df_cardio = pd.read_csv(\"cardio_train.csv\", sep=\";\")\n",
        "df_cardio.head()"
      ],
      "execution_count": 2,
      "outputs": [
        {
          "output_type": "execute_result",
          "data": {
            "text/html": [
              "<div>\n",
              "<style scoped>\n",
              "    .dataframe tbody tr th:only-of-type {\n",
              "        vertical-align: middle;\n",
              "    }\n",
              "\n",
              "    .dataframe tbody tr th {\n",
              "        vertical-align: top;\n",
              "    }\n",
              "\n",
              "    .dataframe thead th {\n",
              "        text-align: right;\n",
              "    }\n",
              "</style>\n",
              "<table border=\"1\" class=\"dataframe\">\n",
              "  <thead>\n",
              "    <tr style=\"text-align: right;\">\n",
              "      <th></th>\n",
              "      <th>id</th>\n",
              "      <th>age</th>\n",
              "      <th>gender</th>\n",
              "      <th>height</th>\n",
              "      <th>weight</th>\n",
              "      <th>ap_hi</th>\n",
              "      <th>ap_lo</th>\n",
              "      <th>cholesterol</th>\n",
              "      <th>gluc</th>\n",
              "      <th>smoke</th>\n",
              "      <th>alco</th>\n",
              "      <th>active</th>\n",
              "      <th>cardio</th>\n",
              "    </tr>\n",
              "  </thead>\n",
              "  <tbody>\n",
              "    <tr>\n",
              "      <th>0</th>\n",
              "      <td>0</td>\n",
              "      <td>18393</td>\n",
              "      <td>2</td>\n",
              "      <td>168</td>\n",
              "      <td>62.0</td>\n",
              "      <td>110</td>\n",
              "      <td>80</td>\n",
              "      <td>1</td>\n",
              "      <td>1</td>\n",
              "      <td>0</td>\n",
              "      <td>0</td>\n",
              "      <td>1</td>\n",
              "      <td>0</td>\n",
              "    </tr>\n",
              "    <tr>\n",
              "      <th>1</th>\n",
              "      <td>1</td>\n",
              "      <td>20228</td>\n",
              "      <td>1</td>\n",
              "      <td>156</td>\n",
              "      <td>85.0</td>\n",
              "      <td>140</td>\n",
              "      <td>90</td>\n",
              "      <td>3</td>\n",
              "      <td>1</td>\n",
              "      <td>0</td>\n",
              "      <td>0</td>\n",
              "      <td>1</td>\n",
              "      <td>1</td>\n",
              "    </tr>\n",
              "    <tr>\n",
              "      <th>2</th>\n",
              "      <td>2</td>\n",
              "      <td>18857</td>\n",
              "      <td>1</td>\n",
              "      <td>165</td>\n",
              "      <td>64.0</td>\n",
              "      <td>130</td>\n",
              "      <td>70</td>\n",
              "      <td>3</td>\n",
              "      <td>1</td>\n",
              "      <td>0</td>\n",
              "      <td>0</td>\n",
              "      <td>0</td>\n",
              "      <td>1</td>\n",
              "    </tr>\n",
              "    <tr>\n",
              "      <th>3</th>\n",
              "      <td>3</td>\n",
              "      <td>17623</td>\n",
              "      <td>2</td>\n",
              "      <td>169</td>\n",
              "      <td>82.0</td>\n",
              "      <td>150</td>\n",
              "      <td>100</td>\n",
              "      <td>1</td>\n",
              "      <td>1</td>\n",
              "      <td>0</td>\n",
              "      <td>0</td>\n",
              "      <td>1</td>\n",
              "      <td>1</td>\n",
              "    </tr>\n",
              "    <tr>\n",
              "      <th>4</th>\n",
              "      <td>4</td>\n",
              "      <td>17474</td>\n",
              "      <td>1</td>\n",
              "      <td>156</td>\n",
              "      <td>56.0</td>\n",
              "      <td>100</td>\n",
              "      <td>60</td>\n",
              "      <td>1</td>\n",
              "      <td>1</td>\n",
              "      <td>0</td>\n",
              "      <td>0</td>\n",
              "      <td>0</td>\n",
              "      <td>0</td>\n",
              "    </tr>\n",
              "  </tbody>\n",
              "</table>\n",
              "</div>"
            ],
            "text/plain": [
              "   id    age  gender  height  weight  ...  gluc  smoke  alco  active  cardio\n",
              "0   0  18393       2     168    62.0  ...     1      0     0       1       0\n",
              "1   1  20228       1     156    85.0  ...     1      0     0       1       1\n",
              "2   2  18857       1     165    64.0  ...     1      0     0       0       1\n",
              "3   3  17623       2     169    82.0  ...     1      0     0       1       1\n",
              "4   4  17474       1     156    56.0  ...     1      0     0       0       0\n",
              "\n",
              "[5 rows x 13 columns]"
            ]
          },
          "metadata": {},
          "execution_count": 2
        }
      ]
    },
    {
      "cell_type": "markdown",
      "metadata": {
        "id": "x3wmR1A5FQt_"
      },
      "source": [
        "## Cek data kosong"
      ]
    },
    {
      "cell_type": "code",
      "metadata": {
        "colab": {
          "base_uri": "https://localhost:8080/"
        },
        "id": "2vY5VlK6DLUo",
        "outputId": "303a9ea1-0e19-442f-aca8-ace2feaee17b"
      },
      "source": [
        "df_cardio.info()"
      ],
      "execution_count": 3,
      "outputs": [
        {
          "output_type": "stream",
          "name": "stdout",
          "text": [
            "<class 'pandas.core.frame.DataFrame'>\n",
            "RangeIndex: 70000 entries, 0 to 69999\n",
            "Data columns (total 13 columns):\n",
            " #   Column       Non-Null Count  Dtype  \n",
            "---  ------       --------------  -----  \n",
            " 0   id           70000 non-null  int64  \n",
            " 1   age          70000 non-null  int64  \n",
            " 2   gender       70000 non-null  int64  \n",
            " 3   height       70000 non-null  int64  \n",
            " 4   weight       70000 non-null  float64\n",
            " 5   ap_hi        70000 non-null  int64  \n",
            " 6   ap_lo        70000 non-null  int64  \n",
            " 7   cholesterol  70000 non-null  int64  \n",
            " 8   gluc         70000 non-null  int64  \n",
            " 9   smoke        70000 non-null  int64  \n",
            " 10  alco         70000 non-null  int64  \n",
            " 11  active       70000 non-null  int64  \n",
            " 12  cardio       70000 non-null  int64  \n",
            "dtypes: float64(1), int64(12)\n",
            "memory usage: 6.9 MB\n"
          ]
        }
      ]
    },
    {
      "cell_type": "markdown",
      "metadata": {
        "id": "oH36_fc7ITYu"
      },
      "source": [
        "## Frekuensi data target"
      ]
    },
    {
      "cell_type": "code",
      "metadata": {
        "colab": {
          "base_uri": "https://localhost:8080/"
        },
        "id": "fwGb1270IWto",
        "outputId": "f052f583-7fa0-4352-979b-f3ed4b6e414e"
      },
      "source": [
        "df_cardio.cardio.value_counts()"
      ],
      "execution_count": 4,
      "outputs": [
        {
          "output_type": "execute_result",
          "data": {
            "text/plain": [
              "0    35021\n",
              "1    34979\n",
              "Name: cardio, dtype: int64"
            ]
          },
          "metadata": {},
          "execution_count": 4
        }
      ]
    },
    {
      "cell_type": "markdown",
      "metadata": {
        "id": "UdJ0gQpVFX42"
      },
      "source": [
        "# Preprocessing Data"
      ]
    },
    {
      "cell_type": "markdown",
      "metadata": {
        "id": "IIUtuVhQFa7m"
      },
      "source": [
        "## Bagi data fitur dan target"
      ]
    },
    {
      "cell_type": "code",
      "metadata": {
        "id": "jLt4hIhuDbHQ"
      },
      "source": [
        "fitur = df_cardio.iloc[:,1:-1].values\n",
        "target = df_cardio.iloc[:,-1].values"
      ],
      "execution_count": 5,
      "outputs": []
    },
    {
      "cell_type": "markdown",
      "metadata": {
        "id": "qdfW0rx3FgL2"
      },
      "source": [
        "## Normalisasi data"
      ]
    },
    {
      "cell_type": "code",
      "metadata": {
        "id": "_R0Ks7vEDsrG"
      },
      "source": [
        "scaler = MinMaxScaler()\n",
        "fitur_scaler = scaler.fit_transform(fitur)"
      ],
      "execution_count": 6,
      "outputs": []
    },
    {
      "cell_type": "markdown",
      "metadata": {
        "id": "4TQZdmZ2FjPX"
      },
      "source": [
        "## Bagi data latih, validasi, dan prediksi\n",
        "\n",
        "Data yang ada dibagi menjadi 3 yaitu:\n",
        "1. 80% data latih\n",
        "2. 16% data validasi\n",
        "3. 4% data test"
      ]
    },
    {
      "cell_type": "code",
      "metadata": {
        "id": "VIV2PHDTDQGG"
      },
      "source": [
        "x_train, x_temp, y_train, y_temp = train_test_split(fitur_scaler, target, test_size=0.2, random_state=42)\n",
        "x_valid, x_test, y_valid, y_test = train_test_split(x_temp, y_temp, test_size=0.2, random_state=42)"
      ],
      "execution_count": 7,
      "outputs": []
    },
    {
      "cell_type": "markdown",
      "metadata": {
        "id": "rvAw8w95Fqlu"
      },
      "source": [
        "# Metode Naive Bayes"
      ]
    },
    {
      "cell_type": "markdown",
      "metadata": {
        "id": "uAyOlUVlKrDg"
      },
      "source": [
        "## Buat model"
      ]
    },
    {
      "cell_type": "code",
      "metadata": {
        "colab": {
          "base_uri": "https://localhost:8080/"
        },
        "id": "yk8W4AB0Ev1k",
        "outputId": "fdbd53d2-6aca-4920-e376-0376500d150b"
      },
      "source": [
        "model_nb = GaussianNB(priors=[0.4, 0.6], var_smoothing=1e-2)\n",
        "model_nb.fit(x_train, y_train)"
      ],
      "execution_count": 8,
      "outputs": [
        {
          "output_type": "execute_result",
          "data": {
            "text/plain": [
              "GaussianNB(priors=[0.4, 0.6], var_smoothing=0.01)"
            ]
          },
          "metadata": {},
          "execution_count": 8
        }
      ]
    },
    {
      "cell_type": "markdown",
      "metadata": {
        "id": "z8xB0-wPKtsf"
      },
      "source": [
        "## Prediksi"
      ]
    },
    {
      "cell_type": "code",
      "metadata": {
        "colab": {
          "base_uri": "https://localhost:8080/"
        },
        "id": "u0O-favVF2Qs",
        "outputId": "7d37e15f-00e6-4975-819a-f4982529c082"
      },
      "source": [
        "y_valid_nb = model_nb.predict(x_valid)\n",
        "print(\"Akurasi untuk data validasi adalah\", round(accuracy_score(y_valid, y_valid_nb)*100,4),\"%\")"
      ],
      "execution_count": 9,
      "outputs": [
        {
          "output_type": "stream",
          "name": "stdout",
          "text": [
            "Akurasi untuk data validasi adalah 63.4018 %\n"
          ]
        }
      ]
    },
    {
      "cell_type": "markdown",
      "metadata": {
        "id": "K2_WkqekK2_3"
      },
      "source": [
        "# Metode Decission Tree"
      ]
    },
    {
      "cell_type": "markdown",
      "metadata": {
        "id": "LqP9DDI5K7mm"
      },
      "source": [
        "## Buat model"
      ]
    },
    {
      "cell_type": "code",
      "metadata": {
        "colab": {
          "base_uri": "https://localhost:8080/"
        },
        "id": "CuK_pTMFHW8x",
        "outputId": "de6fc87d-ae54-45e3-987c-b0ca47f7e78b"
      },
      "source": [
        "model_dt = DecisionTreeClassifier(ccp_alpha=1e-4, random_state=42)\n",
        "model_dt.fit(x_train, y_train)"
      ],
      "execution_count": 10,
      "outputs": [
        {
          "output_type": "execute_result",
          "data": {
            "text/plain": [
              "DecisionTreeClassifier(ccp_alpha=0.0001, class_weight=None, criterion='gini',\n",
              "                       max_depth=None, max_features=None, max_leaf_nodes=None,\n",
              "                       min_impurity_decrease=0.0, min_impurity_split=None,\n",
              "                       min_samples_leaf=1, min_samples_split=2,\n",
              "                       min_weight_fraction_leaf=0.0, presort='deprecated',\n",
              "                       random_state=42, splitter='best')"
            ]
          },
          "metadata": {},
          "execution_count": 10
        }
      ]
    },
    {
      "cell_type": "markdown",
      "metadata": {
        "id": "cReZ5-IALAiv"
      },
      "source": [
        "## Prediksi"
      ]
    },
    {
      "cell_type": "code",
      "metadata": {
        "colab": {
          "base_uri": "https://localhost:8080/"
        },
        "id": "YhJusXX1LHHk",
        "outputId": "f9719530-0e07-4b51-bc52-6533fcf5eb7d"
      },
      "source": [
        "y_valid_dt = model_dt.predict(x_valid)\n",
        "print(\"Akurasi untuk data validasi adalah\", round(accuracy_score(y_valid, y_valid_dt)*100,4),\"%\")"
      ],
      "execution_count": 11,
      "outputs": [
        {
          "output_type": "stream",
          "name": "stdout",
          "text": [
            "Akurasi untuk data validasi adalah 73.5804 %\n"
          ]
        }
      ]
    },
    {
      "cell_type": "markdown",
      "metadata": {
        "id": "iu-NjjKCOpJ4"
      },
      "source": [
        "# Metode Multi Layer Perceptron"
      ]
    },
    {
      "cell_type": "markdown",
      "metadata": {
        "id": "tVpFfBoldi8G"
      },
      "source": [
        "## Buat model"
      ]
    },
    {
      "cell_type": "code",
      "metadata": {
        "colab": {
          "base_uri": "https://localhost:8080/"
        },
        "id": "C6DQtIghLlca",
        "outputId": "46328298-d4bc-44a5-a448-b70ac6cfd0b5"
      },
      "source": [
        "model_mlp = MLPClassifier(alpha=1e-6, max_iter=1000, hidden_layer_sizes=(100,3), n_iter_no_change=20, tol=1e-5)\n",
        "model_mlp.fit(x_train, y_train)"
      ],
      "execution_count": 12,
      "outputs": [
        {
          "output_type": "execute_result",
          "data": {
            "text/plain": [
              "MLPClassifier(activation='relu', alpha=1e-06, batch_size='auto', beta_1=0.9,\n",
              "              beta_2=0.999, early_stopping=False, epsilon=1e-08,\n",
              "              hidden_layer_sizes=(100, 3), learning_rate='constant',\n",
              "              learning_rate_init=0.001, max_fun=15000, max_iter=1000,\n",
              "              momentum=0.9, n_iter_no_change=20, nesterovs_momentum=True,\n",
              "              power_t=0.5, random_state=None, shuffle=True, solver='adam',\n",
              "              tol=1e-05, validation_fraction=0.1, verbose=False,\n",
              "              warm_start=False)"
            ]
          },
          "metadata": {},
          "execution_count": 12
        }
      ]
    },
    {
      "cell_type": "markdown",
      "metadata": {
        "id": "ZyeeM3TBdlGL"
      },
      "source": [
        "## Prediksi"
      ]
    },
    {
      "cell_type": "code",
      "metadata": {
        "colab": {
          "base_uri": "https://localhost:8080/"
        },
        "id": "tlP7pNJFO9Vg",
        "outputId": "1ff12d92-5e73-49ce-ec83-ef73dd1f083b"
      },
      "source": [
        "y_valid_mlp = model_mlp.predict(x_valid)\n",
        "print(\"Akurasi untuk data validasi adalah\", round(accuracy_score(y_valid, y_valid_mlp)*100,4),\"%\")"
      ],
      "execution_count": 13,
      "outputs": [
        {
          "output_type": "stream",
          "name": "stdout",
          "text": [
            "Akurasi untuk data validasi adalah 72.625 %\n"
          ]
        }
      ]
    },
    {
      "cell_type": "markdown",
      "metadata": {
        "id": "vG05zN-AXCgh"
      },
      "source": [
        "# Metode Neural Networks Tensorflow"
      ]
    },
    {
      "cell_type": "markdown",
      "metadata": {
        "id": "C8GZwZDGdsO-"
      },
      "source": [
        "## Buat model"
      ]
    },
    {
      "cell_type": "code",
      "metadata": {
        "id": "Gj3eit-LPBJ4"
      },
      "source": [
        "model_nn = Sequential([\n",
        "                       Dense(32, activation=\"relu\", input_shape=(x_train.shape[1],)),\n",
        "                       Dropout(0.4),\n",
        "                       Dense(32, activation=\"relu\"),\n",
        "                       Dropout(0.4),\n",
        "                       Dense(16, activation=\"relu\"),\n",
        "                       Dropout(0.2),\n",
        "                       Dense(2, activation=\"softmax\")\n",
        "])\n",
        "\n",
        "model_nn.compile(optimizer=SGD(learning_rate=1e-3, momentum=0.9), \n",
        "                 loss=\"binary_crossentropy\", metrics=[\"accuracy\"])"
      ],
      "execution_count": 14,
      "outputs": []
    },
    {
      "cell_type": "code",
      "metadata": {
        "colab": {
          "base_uri": "https://localhost:8080/"
        },
        "id": "JrPu_amRbWWm",
        "outputId": "35726643-204a-4b83-c8ce-de62be0a2fe1"
      },
      "source": [
        "hist_nn = model_nn.fit(x_train, pd.get_dummies(y_train).values,\n",
        "                       validation_data=(x_valid, pd.get_dummies(y_valid).values),\n",
        "                       epochs=50, verbose=2, batch_size=64)"
      ],
      "execution_count": 15,
      "outputs": [
        {
          "output_type": "stream",
          "name": "stdout",
          "text": [
            "Epoch 1/50\n",
            "875/875 - 3s - loss: 0.6952 - accuracy: 0.5137 - val_loss: 0.6899 - val_accuracy: 0.5733\n",
            "Epoch 2/50\n",
            "875/875 - 2s - loss: 0.6910 - accuracy: 0.5345 - val_loss: 0.6869 - val_accuracy: 0.5855\n",
            "Epoch 3/50\n",
            "875/875 - 2s - loss: 0.6886 - accuracy: 0.5465 - val_loss: 0.6826 - val_accuracy: 0.5956\n",
            "Epoch 4/50\n",
            "875/875 - 2s - loss: 0.6859 - accuracy: 0.5572 - val_loss: 0.6779 - val_accuracy: 0.5981\n",
            "Epoch 5/50\n",
            "875/875 - 2s - loss: 0.6823 - accuracy: 0.5675 - val_loss: 0.6729 - val_accuracy: 0.5995\n",
            "Epoch 6/50\n",
            "875/875 - 2s - loss: 0.6787 - accuracy: 0.5762 - val_loss: 0.6687 - val_accuracy: 0.6028\n",
            "Epoch 7/50\n",
            "875/875 - 2s - loss: 0.6770 - accuracy: 0.5761 - val_loss: 0.6653 - val_accuracy: 0.6043\n",
            "Epoch 8/50\n",
            "875/875 - 2s - loss: 0.6740 - accuracy: 0.5840 - val_loss: 0.6626 - val_accuracy: 0.6033\n",
            "Epoch 9/50\n",
            "875/875 - 2s - loss: 0.6720 - accuracy: 0.5876 - val_loss: 0.6595 - val_accuracy: 0.6074\n",
            "Epoch 10/50\n",
            "875/875 - 2s - loss: 0.6692 - accuracy: 0.5933 - val_loss: 0.6573 - val_accuracy: 0.6109\n",
            "Epoch 11/50\n",
            "875/875 - 2s - loss: 0.6689 - accuracy: 0.5947 - val_loss: 0.6567 - val_accuracy: 0.6125\n",
            "Epoch 12/50\n",
            "875/875 - 2s - loss: 0.6673 - accuracy: 0.5954 - val_loss: 0.6549 - val_accuracy: 0.6186\n",
            "Epoch 13/50\n",
            "875/875 - 2s - loss: 0.6654 - accuracy: 0.5992 - val_loss: 0.6537 - val_accuracy: 0.6188\n",
            "Epoch 14/50\n",
            "875/875 - 2s - loss: 0.6646 - accuracy: 0.6029 - val_loss: 0.6511 - val_accuracy: 0.6296\n",
            "Epoch 15/50\n",
            "875/875 - 2s - loss: 0.6628 - accuracy: 0.6047 - val_loss: 0.6502 - val_accuracy: 0.6302\n",
            "Epoch 16/50\n",
            "875/875 - 2s - loss: 0.6618 - accuracy: 0.6060 - val_loss: 0.6493 - val_accuracy: 0.6298\n",
            "Epoch 17/50\n",
            "875/875 - 2s - loss: 0.6608 - accuracy: 0.6076 - val_loss: 0.6486 - val_accuracy: 0.6304\n",
            "Epoch 18/50\n",
            "875/875 - 2s - loss: 0.6594 - accuracy: 0.6109 - val_loss: 0.6473 - val_accuracy: 0.6338\n",
            "Epoch 19/50\n",
            "875/875 - 2s - loss: 0.6585 - accuracy: 0.6117 - val_loss: 0.6464 - val_accuracy: 0.6334\n",
            "Epoch 20/50\n",
            "875/875 - 2s - loss: 0.6577 - accuracy: 0.6123 - val_loss: 0.6455 - val_accuracy: 0.6326\n",
            "Epoch 21/50\n",
            "875/875 - 2s - loss: 0.6568 - accuracy: 0.6120 - val_loss: 0.6451 - val_accuracy: 0.6325\n",
            "Epoch 22/50\n",
            "875/875 - 2s - loss: 0.6558 - accuracy: 0.6138 - val_loss: 0.6441 - val_accuracy: 0.6343\n",
            "Epoch 23/50\n",
            "875/875 - 2s - loss: 0.6558 - accuracy: 0.6166 - val_loss: 0.6444 - val_accuracy: 0.6338\n",
            "Epoch 24/50\n",
            "875/875 - 2s - loss: 0.6548 - accuracy: 0.6174 - val_loss: 0.6428 - val_accuracy: 0.6321\n",
            "Epoch 25/50\n",
            "875/875 - 2s - loss: 0.6539 - accuracy: 0.6167 - val_loss: 0.6421 - val_accuracy: 0.6318\n",
            "Epoch 26/50\n",
            "875/875 - 2s - loss: 0.6541 - accuracy: 0.6199 - val_loss: 0.6427 - val_accuracy: 0.6353\n",
            "Epoch 27/50\n",
            "875/875 - 2s - loss: 0.6537 - accuracy: 0.6191 - val_loss: 0.6427 - val_accuracy: 0.6330\n",
            "Epoch 28/50\n",
            "875/875 - 2s - loss: 0.6520 - accuracy: 0.6183 - val_loss: 0.6417 - val_accuracy: 0.6334\n",
            "Epoch 29/50\n",
            "875/875 - 2s - loss: 0.6520 - accuracy: 0.6201 - val_loss: 0.6408 - val_accuracy: 0.6363\n",
            "Epoch 30/50\n",
            "875/875 - 2s - loss: 0.6515 - accuracy: 0.6233 - val_loss: 0.6405 - val_accuracy: 0.6348\n",
            "Epoch 31/50\n",
            "875/875 - 2s - loss: 0.6515 - accuracy: 0.6247 - val_loss: 0.6405 - val_accuracy: 0.6372\n",
            "Epoch 32/50\n",
            "875/875 - 2s - loss: 0.6504 - accuracy: 0.6231 - val_loss: 0.6399 - val_accuracy: 0.6367\n",
            "Epoch 33/50\n",
            "875/875 - 2s - loss: 0.6502 - accuracy: 0.6242 - val_loss: 0.6403 - val_accuracy: 0.6359\n",
            "Epoch 34/50\n",
            "875/875 - 2s - loss: 0.6506 - accuracy: 0.6228 - val_loss: 0.6393 - val_accuracy: 0.6371\n",
            "Epoch 35/50\n",
            "875/875 - 2s - loss: 0.6499 - accuracy: 0.6230 - val_loss: 0.6398 - val_accuracy: 0.6379\n",
            "Epoch 36/50\n",
            "875/875 - 2s - loss: 0.6489 - accuracy: 0.6237 - val_loss: 0.6387 - val_accuracy: 0.6363\n",
            "Epoch 37/50\n",
            "875/875 - 2s - loss: 0.6507 - accuracy: 0.6232 - val_loss: 0.6392 - val_accuracy: 0.6382\n",
            "Epoch 38/50\n",
            "875/875 - 2s - loss: 0.6492 - accuracy: 0.6278 - val_loss: 0.6385 - val_accuracy: 0.6358\n",
            "Epoch 39/50\n",
            "875/875 - 2s - loss: 0.6490 - accuracy: 0.6246 - val_loss: 0.6380 - val_accuracy: 0.6379\n",
            "Epoch 40/50\n",
            "875/875 - 2s - loss: 0.6487 - accuracy: 0.6253 - val_loss: 0.6383 - val_accuracy: 0.6402\n",
            "Epoch 41/50\n",
            "875/875 - 2s - loss: 0.6487 - accuracy: 0.6257 - val_loss: 0.6382 - val_accuracy: 0.6397\n",
            "Epoch 42/50\n",
            "875/875 - 2s - loss: 0.6472 - accuracy: 0.6285 - val_loss: 0.6370 - val_accuracy: 0.6391\n",
            "Epoch 43/50\n",
            "875/875 - 2s - loss: 0.6480 - accuracy: 0.6276 - val_loss: 0.6372 - val_accuracy: 0.6367\n",
            "Epoch 44/50\n",
            "875/875 - 2s - loss: 0.6483 - accuracy: 0.6278 - val_loss: 0.6373 - val_accuracy: 0.6403\n",
            "Epoch 45/50\n",
            "875/875 - 2s - loss: 0.6479 - accuracy: 0.6296 - val_loss: 0.6373 - val_accuracy: 0.6327\n",
            "Epoch 46/50\n",
            "875/875 - 2s - loss: 0.6480 - accuracy: 0.6272 - val_loss: 0.6369 - val_accuracy: 0.6395\n",
            "Epoch 47/50\n",
            "875/875 - 2s - loss: 0.6464 - accuracy: 0.6321 - val_loss: 0.6359 - val_accuracy: 0.6378\n",
            "Epoch 48/50\n",
            "875/875 - 2s - loss: 0.6468 - accuracy: 0.6293 - val_loss: 0.6364 - val_accuracy: 0.6384\n",
            "Epoch 49/50\n",
            "875/875 - 2s - loss: 0.6466 - accuracy: 0.6299 - val_loss: 0.6368 - val_accuracy: 0.6424\n",
            "Epoch 50/50\n",
            "875/875 - 2s - loss: 0.6469 - accuracy: 0.6300 - val_loss: 0.6359 - val_accuracy: 0.6431\n"
          ]
        }
      ]
    },
    {
      "cell_type": "markdown",
      "metadata": {
        "id": "1jH-j3ptdvKz"
      },
      "source": [
        "## Visualisasi accuracy dan loss"
      ]
    },
    {
      "cell_type": "code",
      "metadata": {
        "colab": {
          "base_uri": "https://localhost:8080/",
          "height": 320
        },
        "id": "pdVDL9Q8boYt",
        "outputId": "fabcc4ec-a405-4d91-90d6-5ce114237fe0"
      },
      "source": [
        "fig, ax = plt.subplots(1,2, figsize=(12,5))\n",
        "df_hist_nn = pd.DataFrame(hist_nn.history)\n",
        "df_hist_nn[[\"accuracy\",\"val_accuracy\"]].plot.line(ax=ax[0])\n",
        "df_hist_nn[[\"loss\",\"val_loss\"]].plot.line(ax=ax[1])\n",
        "plt.show()"
      ],
      "execution_count": 16,
      "outputs": [
        {
          "output_type": "display_data",
          "data": {
            "image/png": "[encoded data removed]",
            "text/plain": [
              "<Figure size 864x360 with 2 Axes>"
            ]
          },
          "metadata": {
            "needs_background": "light"
          }
        }
      ]
    },
    {
      "cell_type": "markdown",
      "metadata": {
        "id": "i_KzBPzCd16_"
      },
      "source": [
        "## Prediksi"
      ]
    },
    {
      "cell_type": "code",
      "metadata": {
        "colab": {
          "base_uri": "https://localhost:8080/"
        },
        "id": "w5MQU6D1aWhc",
        "outputId": "9126b038-6295-413d-ae74-039360db0113"
      },
      "source": [
        "y_valid_nn = model_nn.predict(x_valid).argmax(axis=1)\n",
        "print(\"Akurasi untuk data validasi adalah\", round(accuracy_score(y_valid, y_valid_nn)*100,4),\"%\")"
      ],
      "execution_count": 17,
      "outputs": [
        {
          "output_type": "stream",
          "name": "stdout",
          "text": [
            "Akurasi untuk data validasi adalah 64.3125 %\n"
          ]
        }
      ]
    },
    {
      "cell_type": "markdown",
      "metadata": {
        "id": "GoTgONWwd3dw"
      },
      "source": [
        "# Metode LSTM"
      ]
    },
    {
      "cell_type": "markdown",
      "metadata": {
        "id": "-xp62mJxd9KZ"
      },
      "source": [
        "## Buat model"
      ]
    },
    {
      "cell_type": "code",
      "metadata": {
        "id": "b6MkNcsgd6Yv"
      },
      "source": [
        "model_lstm = Sequential([\n",
        "                       LSTM(64, return_sequences=True, input_shape=(1,x_train.shape[1])),\n",
        "                       LSTM(32, return_sequences=True),\n",
        "                       LSTM(32),\n",
        "                       Dense(32, activation=\"relu\"),\n",
        "                       Dropout(0.4),\n",
        "                       Dense(16, activation=\"relu\"),\n",
        "                       Dropout(0.2),\n",
        "                       Dense(2, activation=\"softmax\")\n",
        "])\n",
        "\n",
        "model_lstm.compile(optimizer=Adam(learning_rate=1e-3), \n",
        "                 loss=\"binary_crossentropy\", metrics=[\"accuracy\"])"
      ],
      "execution_count": 18,
      "outputs": []
    },
    {
      "cell_type": "code",
      "metadata": {
        "colab": {
          "base_uri": "https://localhost:8080/"
        },
        "id": "nEsRXhTbeOmg",
        "outputId": "8d1fa470-2532-47f5-b419-5130f2f58878"
      },
      "source": [
        "hist_lstm = model_lstm.fit(np.expand_dims(x_train, axis=1), pd.get_dummies(y_train),\n",
        "                           validation_data=(np.expand_dims(x_valid, axis=1), pd.get_dummies(y_valid)),\n",
        "                           epochs=50, verbose=2, batch_size=64)"
      ],
      "execution_count": 19,
      "outputs": [
        {
          "output_type": "stream",
          "name": "stdout",
          "text": [
            "Epoch 1/50\n",
            "875/875 - 12s - loss: 0.6564 - accuracy: 0.6108 - val_loss: 0.6341 - val_accuracy: 0.6318\n",
            "Epoch 2/50\n",
            "875/875 - 6s - loss: 0.6386 - accuracy: 0.6403 - val_loss: 0.6281 - val_accuracy: 0.6471\n",
            "Epoch 3/50\n",
            "875/875 - 6s - loss: 0.6345 - accuracy: 0.6438 - val_loss: 0.6273 - val_accuracy: 0.6517\n",
            "Epoch 4/50\n",
            "875/875 - 5s - loss: 0.6326 - accuracy: 0.6455 - val_loss: 0.6260 - val_accuracy: 0.6460\n",
            "Epoch 5/50\n",
            "875/875 - 6s - loss: 0.6310 - accuracy: 0.6445 - val_loss: 0.6257 - val_accuracy: 0.6484\n",
            "Epoch 6/50\n",
            "875/875 - 6s - loss: 0.6300 - accuracy: 0.6490 - val_loss: 0.6204 - val_accuracy: 0.6535\n",
            "Epoch 7/50\n",
            "875/875 - 6s - loss: 0.6281 - accuracy: 0.6472 - val_loss: 0.6211 - val_accuracy: 0.6542\n",
            "Epoch 8/50\n",
            "875/875 - 6s - loss: 0.6269 - accuracy: 0.6498 - val_loss: 0.6201 - val_accuracy: 0.6576\n",
            "Epoch 9/50\n",
            "875/875 - 5s - loss: 0.6248 - accuracy: 0.6506 - val_loss: 0.6188 - val_accuracy: 0.6580\n",
            "Epoch 10/50\n",
            "875/875 - 6s - loss: 0.6242 - accuracy: 0.6515 - val_loss: 0.6164 - val_accuracy: 0.6579\n",
            "Epoch 11/50\n",
            "875/875 - 6s - loss: 0.6232 - accuracy: 0.6529 - val_loss: 0.6147 - val_accuracy: 0.6632\n",
            "Epoch 12/50\n",
            "875/875 - 6s - loss: 0.6211 - accuracy: 0.6565 - val_loss: 0.6227 - val_accuracy: 0.6505\n",
            "Epoch 13/50\n",
            "875/875 - 5s - loss: 0.6171 - accuracy: 0.6634 - val_loss: 0.6070 - val_accuracy: 0.6737\n",
            "Epoch 14/50\n",
            "875/875 - 6s - loss: 0.6137 - accuracy: 0.6674 - val_loss: 0.6062 - val_accuracy: 0.6726\n",
            "Epoch 15/50\n",
            "875/875 - 5s - loss: 0.6064 - accuracy: 0.6753 - val_loss: 0.5977 - val_accuracy: 0.6868\n",
            "Epoch 16/50\n",
            "875/875 - 6s - loss: 0.5997 - accuracy: 0.6841 - val_loss: 0.5892 - val_accuracy: 0.6982\n",
            "Epoch 17/50\n",
            "875/875 - 5s - loss: 0.5957 - accuracy: 0.6890 - val_loss: 0.5944 - val_accuracy: 0.6837\n",
            "Epoch 18/50\n",
            "875/875 - 5s - loss: 0.5896 - accuracy: 0.6961 - val_loss: 0.5834 - val_accuracy: 0.7007\n",
            "Epoch 19/50\n",
            "875/875 - 5s - loss: 0.5874 - accuracy: 0.6979 - val_loss: 0.6097 - val_accuracy: 0.6628\n",
            "Epoch 20/50\n",
            "875/875 - 5s - loss: 0.5834 - accuracy: 0.7001 - val_loss: 0.5703 - val_accuracy: 0.7180\n",
            "Epoch 21/50\n",
            "875/875 - 6s - loss: 0.5818 - accuracy: 0.7037 - val_loss: 0.5778 - val_accuracy: 0.7058\n",
            "Epoch 22/50\n",
            "875/875 - 5s - loss: 0.5785 - accuracy: 0.7042 - val_loss: 0.5731 - val_accuracy: 0.7177\n",
            "Epoch 23/50\n",
            "875/875 - 6s - loss: 0.5763 - accuracy: 0.7071 - val_loss: 0.5975 - val_accuracy: 0.6769\n",
            "Epoch 24/50\n",
            "875/875 - 6s - loss: 0.5758 - accuracy: 0.7074 - val_loss: 0.5599 - val_accuracy: 0.7237\n",
            "Epoch 25/50\n",
            "875/875 - 5s - loss: 0.5752 - accuracy: 0.7086 - val_loss: 0.5772 - val_accuracy: 0.7058\n",
            "Epoch 26/50\n",
            "875/875 - 6s - loss: 0.5733 - accuracy: 0.7105 - val_loss: 0.5684 - val_accuracy: 0.7134\n",
            "Epoch 27/50\n",
            "875/875 - 6s - loss: 0.5788 - accuracy: 0.7055 - val_loss: 0.5672 - val_accuracy: 0.7171\n",
            "Epoch 28/50\n",
            "875/875 - 5s - loss: 0.5740 - accuracy: 0.7086 - val_loss: 0.5639 - val_accuracy: 0.7195\n",
            "Epoch 29/50\n",
            "875/875 - 6s - loss: 0.5759 - accuracy: 0.7072 - val_loss: 0.5638 - val_accuracy: 0.7228\n",
            "Epoch 30/50\n",
            "875/875 - 6s - loss: 0.5742 - accuracy: 0.7086 - val_loss: 0.5680 - val_accuracy: 0.7163\n",
            "Epoch 31/50\n",
            "875/875 - 6s - loss: 0.5776 - accuracy: 0.7062 - val_loss: 0.5894 - val_accuracy: 0.6877\n",
            "Epoch 32/50\n",
            "875/875 - 6s - loss: 0.5735 - accuracy: 0.7080 - val_loss: 0.5595 - val_accuracy: 0.7273\n",
            "Epoch 33/50\n",
            "875/875 - 6s - loss: 0.5714 - accuracy: 0.7131 - val_loss: 0.5651 - val_accuracy: 0.7222\n",
            "Epoch 34/50\n",
            "875/875 - 5s - loss: 0.5725 - accuracy: 0.7108 - val_loss: 0.5664 - val_accuracy: 0.7188\n",
            "Epoch 35/50\n",
            "875/875 - 6s - loss: 0.5740 - accuracy: 0.7080 - val_loss: 0.5664 - val_accuracy: 0.7263\n",
            "Epoch 36/50\n",
            "875/875 - 5s - loss: 0.5720 - accuracy: 0.7122 - val_loss: 0.6000 - val_accuracy: 0.6742\n",
            "Epoch 37/50\n",
            "875/875 - 6s - loss: 0.5717 - accuracy: 0.7111 - val_loss: 0.5676 - val_accuracy: 0.7167\n",
            "Epoch 38/50\n",
            "875/875 - 6s - loss: 0.5762 - accuracy: 0.7065 - val_loss: 0.5796 - val_accuracy: 0.7100\n",
            "Epoch 39/50\n",
            "875/875 - 5s - loss: 0.5739 - accuracy: 0.7100 - val_loss: 0.5592 - val_accuracy: 0.7246\n",
            "Epoch 40/50\n",
            "875/875 - 6s - loss: 0.5721 - accuracy: 0.7125 - val_loss: 0.5618 - val_accuracy: 0.7256\n",
            "Epoch 41/50\n",
            "875/875 - 6s - loss: 0.5718 - accuracy: 0.7107 - val_loss: 0.5630 - val_accuracy: 0.7198\n",
            "Epoch 42/50\n",
            "875/875 - 6s - loss: 0.5719 - accuracy: 0.7116 - val_loss: 0.5756 - val_accuracy: 0.7106\n",
            "Epoch 43/50\n",
            "875/875 - 6s - loss: 0.5710 - accuracy: 0.7117 - val_loss: 0.5755 - val_accuracy: 0.7071\n",
            "Epoch 44/50\n",
            "875/875 - 6s - loss: 0.5699 - accuracy: 0.7137 - val_loss: 0.5866 - val_accuracy: 0.6914\n",
            "Epoch 45/50\n",
            "875/875 - 6s - loss: 0.5711 - accuracy: 0.7117 - val_loss: 0.5682 - val_accuracy: 0.7212\n",
            "Epoch 46/50\n",
            "875/875 - 6s - loss: 0.5722 - accuracy: 0.7110 - val_loss: 0.5681 - val_accuracy: 0.7182\n",
            "Epoch 47/50\n",
            "875/875 - 6s - loss: 0.5697 - accuracy: 0.7128 - val_loss: 0.5643 - val_accuracy: 0.7203\n",
            "Epoch 48/50\n",
            "875/875 - 6s - loss: 0.5689 - accuracy: 0.7131 - val_loss: 0.5643 - val_accuracy: 0.7219\n",
            "Epoch 49/50\n",
            "875/875 - 6s - loss: 0.5687 - accuracy: 0.7137 - val_loss: 0.5565 - val_accuracy: 0.7291\n",
            "Epoch 50/50\n",
            "875/875 - 6s - loss: 0.5680 - accuracy: 0.7151 - val_loss: 0.5639 - val_accuracy: 0.7271\n"
          ]
        }
      ]
    },
    {
      "cell_type": "markdown",
      "metadata": {
        "id": "5nZrq_3BkEsS"
      },
      "source": [
        "## Visualisasi accuracy dan loss"
      ]
    },
    {
      "cell_type": "code",
      "metadata": {
        "colab": {
          "base_uri": "https://localhost:8080/",
          "height": 320
        },
        "id": "nT7V5cVOhDkM",
        "outputId": "1d545e76-f548-4856-d2b4-480ebab7e005"
      },
      "source": [
        "fig, ax = plt.subplots(1,2, figsize=(12,5))\n",
        "df_hist_lstm = pd.DataFrame(hist_lstm.history)\n",
        "df_hist_lstm[[\"accuracy\",\"val_accuracy\"]].plot.line(ax=ax[0])\n",
        "df_hist_lstm[[\"loss\",\"val_loss\"]].plot.line(ax=ax[1])\n",
        "plt.show()"
      ],
      "execution_count": 20,
      "outputs": [
        {
          "output_type": "display_data",
          "data": {
            "image/png": "[encoded data removed]",
            "text/plain": [
              "<Figure size 864x360 with 2 Axes>"
            ]
          },
          "metadata": {
            "needs_background": "light"
          }
        }
      ]
    },
    {
      "cell_type": "code",
      "metadata": {
        "colab": {
          "base_uri": "https://localhost:8080/"
        },
        "id": "oQilOKemobHn",
        "outputId": "ce4f4da7-a3e3-42dc-f90e-9e7ed057721a"
      },
      "source": [
        "y_valid_lstm = model_lstm.predict(np.expand_dims(x_valid, axis=1)).argmax(axis=1)\n",
        "print(\"Akurasi untuk data validasi adalah\", round(accuracy_score(y_valid, y_valid_lstm)*100,4),\"%\")"
      ],
      "execution_count": 21,
      "outputs": [
        {
          "output_type": "stream",
          "name": "stdout",
          "text": [
            "Akurasi untuk data validasi adalah 72.7143 %\n"
          ]
        }
      ]
    },
    {
      "cell_type": "markdown",
      "metadata": {
        "id": "J4iX8E1llIFz"
      },
      "source": [
        "# Komparasi Hasil"
      ]
    },
    {
      "cell_type": "markdown",
      "metadata": {
        "id": "ZgibuCAD4q-0"
      },
      "source": [
        "## Perhitungan"
      ]
    },
    {
      "cell_type": "code",
      "metadata": {
        "id": "42jQspWKkIOf"
      },
      "source": [
        "y_test_nb = model_nb.predict(x_test)\n",
        "y_test_dt = model_dt.predict(x_test)\n",
        "y_test_mlp = model_mlp.predict(x_test)\n",
        "y_test_nn = model_nn.predict(x_test).argmax(axis=1)\n",
        "y_test_lstm = model_lstm.predict(np.expand_dims(x_test, axis=1)).argmax(axis=1)\n",
        "\n",
        "# ------------------- Accuracy ------------------------\n",
        "\n",
        "acc_nb = round(accuracy_score(y_test, y_test_nb)*100,4)\n",
        "acc_dt = round(accuracy_score(y_test, y_test_dt)*100,4)\n",
        "acc_mlp = round(accuracy_score(y_test, y_test_mlp)*100,4)\n",
        "acc_nn = round(accuracy_score(y_test, y_test_nn)*100,4)\n",
        "acc_lstm = round(accuracy_score(y_test, y_test_lstm)*100,4)\n",
        "\n",
        "# ------------------- Precission ------------------------\n",
        "\n",
        "precision_nb = round(precision_score(y_test, y_test_nb)*100,4)\n",
        "precision_dt = round(precision_score(y_test, y_test_dt)*100,4)\n",
        "precision_mlp = round(precision_score(y_test, y_test_mlp)*100,4)\n",
        "precision_nn = round(precision_score(y_test, y_test_nn)*100,4)\n",
        "precision_lstm = round(precision_score(y_test, y_test_lstm)*100,4)\n",
        "\n",
        "# ------------------- Recall ------------------------\n",
        "\n",
        "recall_nb = round(recall_score(y_test, y_test_nb)*100,4)\n",
        "recall_dt = round(recall_score(y_test, y_test_dt)*100,4)\n",
        "recall_mlp = round(recall_score(y_test, y_test_mlp)*100,4)\n",
        "recall_nn = round(recall_score(y_test, y_test_nn)*100,4)\n",
        "recall_lstm = round(recall_score(y_test, y_test_lstm)*100,4)\n",
        "\n",
        "# ---------------------- F1 --------------------------\n",
        "\n",
        "f1_nb = round(f1_score(y_test, y_test_nb)*100,4)\n",
        "f1_dt = round(f1_score(y_test, y_test_dt)*100,4)\n",
        "f1_mlp = round(f1_score(y_test, y_test_mlp)*100,4)\n",
        "f1_nn = round(f1_score(y_test, y_test_nn)*100,4)\n",
        "f1_lstm = round(f1_score(y_test, y_test_lstm)*100,4)\n",
        "\n",
        "# ------------------- Gabungan ------------------------\n",
        "\n",
        "model_name = [\"Naive Bayes\", \"Decission Tree\", \"MLP\", \"Neural Networks\", \"LSTM\"]\n",
        "acc_pred = [acc_nb, acc_dt, acc_mlp, acc_nn, acc_lstm]\n",
        "precision_pred = [precision_nb, precision_dt, precision_mlp, precision_nn, precision_lstm]\n",
        "recall_pred = [recall_nb, recall_dt, recall_mlp, recall_nn, recall_lstm]\n",
        "f1_pred = [f1_nb, f1_dt, f1_mlp, f1_nn, f1_lstm]"
      ],
      "execution_count": 22,
      "outputs": []
    },
    {
      "cell_type": "markdown",
      "metadata": {
        "id": "xjSXVZQA4nQb"
      },
      "source": [
        "## Visualisasi"
      ]
    },
    {
      "cell_type": "code",
      "metadata": {
        "colab": {
          "base_uri": "https://localhost:8080/",
          "height": 662
        },
        "id": "Wl1p-xsd4mOr",
        "outputId": "815dcb1d-caf0-48f8-a2fc-733b62ef6915"
      },
      "source": [
        "fig, ax = plt.subplots(2,2, figsize=(15,11))\n",
        "\n",
        "# ------------------- Accuracy ------------------------\n",
        "\n",
        "axes = sns.barplot(x=model_name, y=acc_pred, ax=ax[0,0])\n",
        "for i in range(len(model_name)):\n",
        "  axes.text(i, acc_pred[i]+3, acc_pred[i], \n",
        "           horizontalalignment='center', verticalalignment='center')\n",
        "axes.set_ylim([0,max(acc_pred)+10])\n",
        "axes.set_title(\"Accuracy\")\n",
        "\n",
        "# ------------------- Precission ------------------------\n",
        "\n",
        "axes = sns.barplot(x=model_name, y=precision_pred, ax=ax[0,1])\n",
        "for i in range(len(model_name)):\n",
        "  axes.text(i, precision_pred[i]+3, precision_pred[i], \n",
        "           horizontalalignment='center', verticalalignment='center')\n",
        "axes.set_ylim([0,max(precision_pred)+10])\n",
        "axes.set_title(\"Precision\")\n",
        "\n",
        "# ------------------- Recall ------------------------\n",
        "\n",
        "axes = sns.barplot(x=model_name, y=recall_pred, ax=ax[1,0])\n",
        "for i in range(len(model_name)):\n",
        "  axes.text(i, recall_pred[i]+3, recall_pred[i], \n",
        "           horizontalalignment='center', verticalalignment='center')\n",
        "axes.set_ylim([0,max(recall_pred)+10])\n",
        "axes.set_title(\"Recall\")\n",
        "\n",
        "# ---------------------- F1 --------------------------\n",
        "\n",
        "axes = sns.barplot(x=model_name, y=f1_pred, ax=ax[1,1])\n",
        "for i in range(len(model_name)):\n",
        "  axes.text(i, f1_pred[i]+3, f1_pred[i], \n",
        "           horizontalalignment='center', verticalalignment='center')\n",
        "axes.set_ylim([0,max(f1_pred)+10])\n",
        "axes.set_title(\"F1\")\n",
        "\n",
        "plt.show()"
      ],
      "execution_count": 23,
      "outputs": [
        {
          "output_type": "display_data",
          "data": {
            "image/png": "[encoded data removed]",
            "text/plain": [
              "<Figure size 1080x792 with 4 Axes>"
            ]
          },
          "metadata": {
            "needs_background": "light"
          }
        }
      ]
    },
    {
      "cell_type": "markdown",
      "metadata": {
        "id": "TzoH9gvnESlC"
      },
      "source": [
        "## Hasil paling bagus"
      ]
    },
    {
      "cell_type": "code",
      "metadata": {
        "colab": {
          "base_uri": "https://localhost:8080/"
        },
        "id": "k1WwSdKG51Pj",
        "outputId": "ceb3da50-f85f-4cbf-e831-a9d54927dcf5"
      },
      "source": [
        "print(\"Accuracy tertinggi\\t: \", model_name[np.array(acc_pred).argmax()], max(acc_pred), \"%\")\n",
        "print(\"Precission tertinggi\\t: \", model_name[np.array(precision_pred).argmax()], max(precision_pred), \"%\")\n",
        "print(\"Recall tertinggi\\t: \", model_name[np.array(recall_pred).argmax()], max(recall_pred), \"%\")\n",
        "print(\"F1 tertinggi\\t\\t: \", model_name[np.array(f1_pred).argmax()], max(f1_pred), \"%\")"
      ],
      "execution_count": 24,
      "outputs": [
        {
          "output_type": "stream",
          "name": "stdout",
          "text": [
            "Accuracy tertinggi\t:  Decission Tree 73.9643 %\n",
            "Precission tertinggi\t:  Decission Tree 76.7628 %\n",
            "Recall tertinggi\t:  Neural Networks 69.2198 %\n",
            "F1 tertinggi\t\t:  Decission Tree 72.4386 %\n"
          ]
        }
      ]
    },
    {
      "cell_type": "markdown",
      "metadata": {
        "id": "0sv_xCyvEVnW"
      },
      "source": [
        "# Kesimpulan\n",
        "Berdasarkan 4 jenis komparasi yang ada, dapat disimpulkan bahwa metode Decission Tree paling bagus untuk digunakan di datasets cardio ini."
      ]
    }
  ]
}
